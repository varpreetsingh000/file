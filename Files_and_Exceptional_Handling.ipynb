{
  "nbformat": 4,
  "nbformat_minor": 0,
  "metadata": {
    "colab": {
      "provenance": []
    },
    "kernelspec": {
      "name": "python3",
      "display_name": "Python 3"
    },
    "language_info": {
      "name": "python"
    }
  },
  "cells": [
    {
      "cell_type": "markdown",
      "source": [
        "Ques-1 Discuss the scenarios where multithreading is preferable to multiprocessing and scenarios where multiprocessing is a better choice."
      ],
      "metadata": {
        "id": "KK-i0yXpPpAo"
      }
    },
    {
      "cell_type": "markdown",
      "source": [
        "When Multithreading is Preferable:\n",
        "\n",
        "1. I/O-bound Tasks: Multithreading is ideal for tasks that spend a lot of time waiting for I/O operations to complete, such as reading from or writing to a file, making network requests, or database queries. Threads can be switched while waiting, making efficient use of CPU time.\n",
        "\n",
        "2. Low Memory Overhead: Threads share the same memory space, which makes communication between them faster and more efficient compared to multiprocessing, where each process has its own memory space. This shared memory model reduces overhead, especially for lightweight tasks.\n",
        "\n",
        "3. Fast Context Switching: Thread context switching is generally faster than process context switching since threads share the same process context. This makes multithreading a good fit for tasks that require frequent switching.\n",
        "\n",
        "4. Shared Data: If your tasks need to share a large amount of data or state, multithreading can be more efficient because threads share the same address space. This avoids the need for data serialization/deserialization that occurs with multiprocessing.\n",
        "\n",
        "5. Limited Resources: If system resources are limited (e.g., memory), multithreading is preferable because threads use less memory than processes.\n",
        "\n",
        "6. Concurrency, Not Parallelism: In applications where true parallelism is not required, and tasks can run concurrently (e.g., a GUI application handling user inputs while performing background operations), multithreading works well, particularly in environments with a Global Interpreter Lock (GIL) like Python.\n",
        "\n",
        "When Multiprocessing is Preferable:\n",
        "\n",
        "1. CPU-bound Tasks: Multiprocessing is better for CPU-bound tasks that require heavy computation, such as numerical simulations, data processing, or machine learning model training. Each process runs on a separate core, bypassing the GIL and fully utilizing multicore processors.\n",
        "\n",
        "2. Independent Tasks: When tasks are independent and do not need to share a significant amount of data, multiprocessing works well because each process runs in its own memory space.\n",
        "\n",
        "3. Avoiding GIL Limitations: In programming languages like Python that have a GIL (Global Interpreter Lock), multithreading does not achieve true parallelism. Multiprocessing, however, allows for parallel execution because each process has its own interpreter and memory space.\n",
        "\n",
        "4. Fault Isolation: Processes are isolated from each other, so if one process crashes, it does not affect others. This fault isolation can be beneficial in applications where stability and reliability are critical.\n",
        "\n",
        "5. Scalability: Multiprocessing can scale better on multi-core systems, especially for compute-intensive applications, as each process can run on a separate core.\n",
        "\n",
        "6. Security and Isolation: When tasks need to be isolated for security reasons (e.g., running untrusted code), multiprocessing is preferred because processes do not share the same memory space, providing a safer execution environment."
      ],
      "metadata": {
        "id": "b-yFpzimPpuS"
      }
    },
    {
      "cell_type": "markdown",
      "source": [
        "Ques-2 Describe what a process pool is and how it helps in managing multiple processes efficiently."
      ],
      "metadata": {
        "id": "kvBjOgIJQSXt"
      }
    },
    {
      "cell_type": "markdown",
      "source": [
        "A process pool is a programming construct that allows you to manage and control a pool of worker processes that can execute tasks concurrently. It is commonly used in multiprocessing to efficiently manage multiple processes without the overhead of creating and destroying processes repeatedly.\n",
        "\n",
        "How Process Pools Work:\n",
        "\n",
        "1. Pool of Worker Processes: A process pool maintains a predefined number of worker processes, known as the pool size. These workers are created at the start and are reused to execute tasks.\n",
        "\n",
        "2. Task Submission: Tasks (functions or callable objects) are submitted to the pool for execution. The pool assigns these tasks to available worker processes.\n",
        "\n",
        "3. Task Scheduling: The process pool schedules tasks to idle workers. If all workers are busy, the tasks are queued until a worker becomes available.\n",
        "\n",
        "4. Load Balancing: The pool automatically balances the load among the available workers, distributing tasks evenly and ensuring efficient use of resources.\n",
        "\n",
        "5. Reusing Processes: Once a worker process completes a task, it is reused to execute another task from the queue. This reuse minimizes the overhead associated with process creation and destruction.\n",
        "\n",
        "6. Parallel Execution: Since each worker in the pool is a separate process, tasks can be executed in parallel, fully utilizing multiple CPU cores."
      ],
      "metadata": {
        "id": "xcQDHsZPQuFe"
      }
    },
    {
      "cell_type": "code",
      "source": [
        "#example\n",
        "from multiprocessing import Pool\n",
        "\n",
        "def square(x):\n",
        "    return x * x\n",
        "\n",
        "if __name__ == '__main__':\n",
        "    with Pool(4) as pool:\n",
        "        numbers = [1, 2, 3, 4, 5]\n",
        "        results = pool.map(square, numbers)\n",
        "    print(results)\n"
      ],
      "metadata": {
        "colab": {
          "base_uri": "https://localhost:8080/"
        },
        "id": "Gjk-I3XVRFRe",
        "outputId": "235ea970-b3e3-49d6-a5cb-fd30d8325173"
      },
      "execution_count": 9,
      "outputs": [
        {
          "output_type": "stream",
          "name": "stdout",
          "text": [
            "[1, 4, 9, 16, 25]\n"
          ]
        }
      ]
    },
    {
      "cell_type": "markdown",
      "source": [
        "Ques-3  Explain what multiprocessing is and why it is used in Python programs."
      ],
      "metadata": {
        "id": "k9MpcFFVRLKE"
      }
    },
    {
      "cell_type": "markdown",
      "source": [
        "Multiprocessing is a parallel execution model that allows a program to run multiple processes simultaneously, each with its own memory space, resources, and execution thread. In the context of computing, it leverages multiple CPU cores to perform tasks concurrently, thus improving the performance of programs that involve heavy computation.\n",
        "\n",
        "In Python, the multiprocessing module provides an interface to create and manage separate processes, enabling Python programs to bypass the limitations of the Global Interpreter Lock (GIL) and fully utilize multiple CPU cores for parallel execution."
      ],
      "metadata": {
        "id": "hQegVG91UuOo"
      }
    },
    {
      "cell_type": "markdown",
      "source": [
        "Uses of Multiprocessing in Python Programs:\n",
        "\n",
        "1. To Overcome GIL Limitations: Python’s GIL restricts concurrent execution of threads in CPU-bound tasks, making multithreading ineffective for such tasks. Multiprocessing allows Python programs to perform true parallel execution by running separate processes, each with its own GIL.\n",
        "\n",
        "2. Performance Boost for CPU-bound Tasks: For tasks that require a lot of CPU resources (like complex calculations, data analysis, or machine learning model training), multiprocessing can significantly improve performance by distributing the workload across multiple CPU cores.\n",
        "\n",
        "3. Parallel Execution of Independent Tasks: When tasks are independent of each other and do not need to share state or data frequently, multiprocessing allows these tasks to be executed in parallel, leading to faster completion times.\n",
        "\n",
        "4. Improved Scalability: Multiprocessing scales well with the number of CPU cores, allowing programs to take full advantage of modern multi-core processors. As the number of cores increases, multiprocessing can scale to handle more tasks concurrently.\n",
        "\n",
        "5. Fault Isolation: Since processes are isolated from each other, failures in one process do not affect the entire program. This isolation can lead to more robust applications, especially in scenarios where stability and reliability are important.\n",
        "\n",
        "6. Efficient Resource Utilization: By running multiple processes, a program can better utilize system resources, such as CPU and memory, by distributing the workload and avoiding the bottlenecks associated with single-threaded execution."
      ],
      "metadata": {
        "id": "SZtdtkZuUyZj"
      }
    },
    {
      "cell_type": "code",
      "source": [
        "#example\n",
        "from multiprocessing import Process\n",
        "\n",
        "def print_square(number):\n",
        "    print(f'Square: {number * number}')\n",
        "\n",
        "def print_cube(number):\n",
        "    print(f'Cube: {number * number * number}')\n",
        "\n",
        "if __name__ == '__main__':\n",
        "\n",
        "    process1 = Process(target=print_square, args=(10,))\n",
        "    process2 = Process(target=print_cube, args=(10,))\n",
        "\n",
        "\n",
        "    process1.start()\n",
        "    process2.start()\n",
        "\n",
        "\n",
        "    process1.join()\n",
        "    process2.join()\n",
        "\n",
        "    print('Both processes are complete.')\n"
      ],
      "metadata": {
        "colab": {
          "base_uri": "https://localhost:8080/"
        },
        "id": "S_k1W1-bVfpo",
        "outputId": "0ebdb4f9-952e-4779-da4c-187babf387e8"
      },
      "execution_count": 10,
      "outputs": [
        {
          "output_type": "stream",
          "name": "stdout",
          "text": [
            "Square: 100\n",
            "Cube: 1000\n",
            "Both processes are complete.\n"
          ]
        }
      ]
    },
    {
      "cell_type": "markdown",
      "source": [
        "Ques-4 Write a Python program using multithreading where one thread adds numbers to a list, and another thread removes numbers from the list. Implement a mechanism to avoid race conditions using threading.Lock."
      ],
      "metadata": {
        "id": "kJKx66cTVEq4"
      }
    },
    {
      "cell_type": "code",
      "source": [
        "import threading\n",
        "import time\n",
        "\n",
        "\n",
        "shared_list = []\n",
        "list_lock = threading.Lock()\n",
        "\n",
        "\n",
        "def add_numbers():\n",
        "    for i in range(1, 11):\n",
        "        with list_lock:\n",
        "            shared_list.append(i)\n",
        "            print(f'Added {i} to the list')\n",
        "        time.sleep(0.1)\n",
        "\n",
        "\n",
        "def remove_numbers():\n",
        "    for _ in range(1, 11):\n",
        "        with list_lock:\n",
        "            if shared_list:\n",
        "                removed = shared_list.pop(0)\n",
        "                print(f'Removed {removed} from the list')\n",
        "            else:\n",
        "                print('List is empty, cannot remove')\n",
        "        time.sleep(0.2)\n",
        "\n",
        "\n",
        "add_thread = threading.Thread(target=add_numbers)\n",
        "remove_thread = threading.Thread(target=remove_numbers)\n",
        "\n",
        "\n",
        "add_thread.start()\n",
        "remove_thread.start()\n",
        "\n",
        "\n",
        "add_thread.join()\n",
        "remove_thread.join()\n",
        "\n",
        "print('Final list:', shared_list)\n"
      ],
      "metadata": {
        "colab": {
          "base_uri": "https://localhost:8080/"
        },
        "id": "VZbLT5_-VO4B",
        "outputId": "2563d064-c587-4096-98b7-204d767b4794"
      },
      "execution_count": 11,
      "outputs": [
        {
          "output_type": "stream",
          "name": "stdout",
          "text": [
            "Added 1 to the list\n",
            "Removed 1 from the list\n",
            "Added 2 to the list\n",
            "Added 3 to the list\n",
            "Removed 2 from the list\n",
            "Added 4 to the list\n",
            "Removed 3 from the list\n",
            "Added 5 to the list\n",
            "Added 6 to the list\n",
            "Removed 4 from the list\n",
            "Added 7 to the list\n",
            "Added 8 to the list\n",
            "Removed 5 from the list\n",
            "Added 9 to the list\n",
            "Added 10 to the list\n",
            "Removed 6 from the list\n",
            "Removed 7 from the list\n",
            "Removed 8 from the list\n",
            "Removed 9 from the list\n",
            "Removed 10 from the list\n",
            "Final list: []\n"
          ]
        }
      ]
    },
    {
      "cell_type": "markdown",
      "source": [
        "Ques-5 Describe the methods and tools available in Python for safely sharing data between threads and processes."
      ],
      "metadata": {
        "id": "p6UK-xY_WVWM"
      }
    },
    {
      "cell_type": "markdown",
      "source": [
        "Sharing Data Between Threads:\n",
        "\n",
        "1. Locks (threading.Lock):\n",
        "\n",
        "A lock allows only one thread to access the shared resource at a time.\n",
        "It can be used with the acquire() and release() methods or with a context manager (with statement)."
      ],
      "metadata": {
        "id": "HAdiLaz9W4RN"
      }
    },
    {
      "cell_type": "code",
      "source": [
        "#example\n",
        "import threading\n",
        "\n",
        "lock = threading.Lock()\n",
        "\n",
        "with lock:\n",
        "    # Critical section of code\n"
      ],
      "metadata": {
        "id": "c_E6D833XLvN"
      },
      "execution_count": null,
      "outputs": []
    },
    {
      "cell_type": "markdown",
      "source": [
        "2. RLock (threading.RLock):\n",
        "\n",
        "A reentrant lock that allows the same thread to acquire the lock multiple times without causing a deadlock.\n",
        "Useful when a thread needs to re-enter a critical section of code."
      ],
      "metadata": {
        "id": "CRnGDGgKXNjK"
      }
    },
    {
      "cell_type": "code",
      "source": [
        "#example\n",
        "import threading\n",
        "\n",
        "rlock = threading.RLock()\n",
        "\n",
        "with rlock:\n",
        "    # Critical section of code\n"
      ],
      "metadata": {
        "id": "vG3u-SjZXRb_"
      },
      "execution_count": null,
      "outputs": []
    },
    {
      "cell_type": "markdown",
      "source": [
        "3. Semaphore (threading.Semaphore):\n",
        "\n",
        "A semaphore controls access to a resource with a set number of permits.\n",
        "Threads can acquire and release permits, limiting the number of threads that can access a resource concurrently."
      ],
      "metadata": {
        "id": "LWv6nIQGXVmR"
      }
    },
    {
      "cell_type": "code",
      "source": [
        "#example\n",
        "import threading\n",
        "\n",
        "semaphore = threading.Semaphore(2)  # Allows up to 2 threads to access the resource\n",
        "\n",
        "with semaphore:\n",
        "    # Critical section of code\n"
      ],
      "metadata": {
        "id": "kVzB6rYAXadx"
      },
      "execution_count": null,
      "outputs": []
    },
    {
      "cell_type": "markdown",
      "source": [
        "4. Condition (threading.Condition):\n",
        "\n",
        "A condition variable allows threads to wait for certain conditions to be met.\n",
        "Threads can use wait(), notify(), and notify_all() methods to synchronize actions.\n",
        "Useful for complex thread synchronization scenarios.\n"
      ],
      "metadata": {
        "id": "haynb2IKXega"
      }
    },
    {
      "cell_type": "code",
      "source": [
        "#example\n",
        "import threading\n",
        "\n",
        "condition = threading.Condition()\n",
        "\n",
        "with condition:\n",
        "    condition.wait()  # Wait until notified\n",
        "    # Critical section of code\n",
        "    condition.notify()  # Notify another waiting thread\n"
      ],
      "metadata": {
        "id": "Ri-1Wid2Xz0R"
      },
      "execution_count": null,
      "outputs": []
    },
    {
      "cell_type": "markdown",
      "source": [
        "5. Event (threading.Event):\n",
        "\n",
        "An event is a simple flag that can be set (set()) or cleared (clear()).\n",
        "Threads can wait for the event to be set using wait(), making it a simple way to signal between threads."
      ],
      "metadata": {
        "id": "X3C4wcFMX2J-"
      }
    },
    {
      "cell_type": "code",
      "source": [
        "#example\n",
        "import threading\n",
        "\n",
        "event = threading.Event()\n",
        "\n",
        "event.set()   # Set the event\n",
        "event.wait()  # Wait for the event to be set\n"
      ],
      "metadata": {
        "id": "1D1kc-FsX6Df"
      },
      "execution_count": null,
      "outputs": []
    },
    {
      "cell_type": "markdown",
      "source": [
        "6. Queue (queue.Queue):\n",
        "\n",
        "A thread-safe queue for passing data between threads.\n",
        "Supports FIFO, LIFO, and priority queues with built-in locking mechanisms.\n"
      ],
      "metadata": {
        "id": "K8fzjPvUX9sx"
      }
    },
    {
      "cell_type": "code",
      "source": [
        "#example\n",
        "import queue\n",
        "\n",
        "q = queue.Queue()\n",
        "\n",
        "q.put(1)  # Add item to queue\n",
        "item = q.get()  # Remove and return item from queue\n"
      ],
      "metadata": {
        "id": "W9NxHkWsYCC-"
      },
      "execution_count": null,
      "outputs": []
    },
    {
      "cell_type": "markdown",
      "source": [
        "Sharing Data Between Processes:\n",
        "\n",
        "1. Queue (multiprocessing.Queue):\n",
        "\n",
        "A FIFO queue for passing data between processes.\n",
        "It is process-safe and provides a simple way to communicate between processes."
      ],
      "metadata": {
        "id": "LmBEcWOZYF8q"
      }
    },
    {
      "cell_type": "code",
      "source": [
        "#example\n",
        "from multiprocessing import Process, Queue\n",
        "\n",
        "def worker(q):\n",
        "    q.put('Data from process')\n",
        "\n",
        "q = Queue()\n",
        "p = Process(target=worker, args=(q,))\n",
        "p.start()\n",
        "print(q.get())  # Retrieve data from queue\n",
        "p.join()\n"
      ],
      "metadata": {
        "colab": {
          "base_uri": "https://localhost:8080/"
        },
        "id": "m-boqVYqYMi1",
        "outputId": "95a70153-6e39-4324-fa35-28da42f2de0a"
      },
      "execution_count": 14,
      "outputs": [
        {
          "output_type": "stream",
          "name": "stdout",
          "text": [
            "Data from process\n"
          ]
        }
      ]
    },
    {
      "cell_type": "markdown",
      "source": [
        "2. Pipe (multiprocessing.Pipe):\n",
        "\n",
        "A bi-directional communication channel between two processes.\n",
        "It provides two connection objects that can send and receive data."
      ],
      "metadata": {
        "id": "IOtPfXxmYRqm"
      }
    },
    {
      "cell_type": "code",
      "source": [
        "#example\n",
        "from multiprocessing import Process, Pipe\n",
        "\n",
        "def worker(conn):\n",
        "    conn.send('Message from process')\n",
        "    conn.close()\n",
        "\n",
        "parent_conn, child_conn = Pipe()\n",
        "p = Process(target=worker, args=(child_conn,))\n",
        "p.start()\n",
        "print(parent_conn.recv())  # Retrieve data from pipe\n",
        "p.join()\n"
      ],
      "metadata": {
        "colab": {
          "base_uri": "https://localhost:8080/"
        },
        "id": "XQniab0KYVhq",
        "outputId": "3ffe5842-16e9-4306-91f6-4a387b044543"
      },
      "execution_count": 15,
      "outputs": [
        {
          "output_type": "stream",
          "name": "stdout",
          "text": [
            "Message from process\n"
          ]
        }
      ]
    },
    {
      "cell_type": "markdown",
      "source": [
        "3. Shared Memory (multiprocessing.Value and multiprocessing.Array):\n",
        "\n",
        "Allows sharing of simple data types and arrays between processes using shared memory.\n",
        "Value shares a single value, while Array shares an array of values."
      ],
      "metadata": {
        "id": "mve8yVYvYZ_V"
      }
    },
    {
      "cell_type": "code",
      "source": [
        "#example\n",
        "from multiprocessing import Process, Value, Array\n",
        "\n",
        "def worker(val, arr):\n",
        "    val.value = 42  # Modify shared value\n",
        "    arr[0] = 99     # Modify shared array\n",
        "\n",
        "shared_val = Value('i', 0)  # Shared integer\n",
        "shared_arr = Array('i', range(10))  # Shared array\n",
        "\n",
        "p = Process(target=worker, args=(shared_val, shared_arr))\n",
        "p.start()\n",
        "p.join()\n",
        "\n",
        "print(shared_val.value)\n",
        "print(shared_arr[:])\n"
      ],
      "metadata": {
        "colab": {
          "base_uri": "https://localhost:8080/"
        },
        "id": "9fQg4-jRYeDX",
        "outputId": "a7464f77-ca75-4c5a-de31-8502df7ee642"
      },
      "execution_count": 16,
      "outputs": [
        {
          "output_type": "stream",
          "name": "stdout",
          "text": [
            "42\n",
            "[99, 1, 2, 3, 4, 5, 6, 7, 8, 9]\n"
          ]
        }
      ]
    },
    {
      "cell_type": "markdown",
      "source": [
        "4. Manager (multiprocessing.Manager):\n",
        "\n",
        "Provides shared data structures, such as lists, dictionaries, and other Python objects that can be shared between processes.\n",
        "It creates a server process that manages shared objects, and other processes can access these objects via proxies."
      ],
      "metadata": {
        "id": "eZN6NpdoYlg2"
      }
    },
    {
      "cell_type": "code",
      "source": [
        "#example\n",
        "from multiprocessing import Process, Manager\n",
        "\n",
        "def worker(shared_list):\n",
        "    shared_list.append('Data from process')\n",
        "\n",
        "with Manager() as manager:\n",
        "    shared_list = manager.list()  # Create a shared list\n",
        "    p = Process(target=worker, args=(shared_list,))\n",
        "    p.start()\n",
        "    p.join()\n",
        "    print(shared_list)\n"
      ],
      "metadata": {
        "colab": {
          "base_uri": "https://localhost:8080/"
        },
        "id": "bq-bkXotYphV",
        "outputId": "620156bb-7484-4444-b1b4-fbf1df485599"
      },
      "execution_count": 17,
      "outputs": [
        {
          "output_type": "stream",
          "name": "stdout",
          "text": [
            "['Data from process']\n"
          ]
        }
      ]
    },
    {
      "cell_type": "markdown",
      "source": [
        "5. Locks, Semaphores, and Conditions (multiprocessing.Lock, multiprocessing.Semaphore, multiprocessing.Condition):\n",
        "\n",
        "These synchronization primitives can also be used with processes to control access to shared resources.\n",
        "They function similarly to their threading counterparts but are designed for use with processes."
      ],
      "metadata": {
        "id": "HTPM8WKEYv-D"
      }
    },
    {
      "cell_type": "code",
      "source": [
        "#example\n",
        "from multiprocessing import Process, Lock\n",
        "\n",
        "def worker(lock):\n",
        "    with lock:  # Acquire lock\n",
        "        print('Locked section of code')\n",
        "\n",
        "lock = Lock()\n",
        "p = Process(target=worker, args=(lock,))\n",
        "p.start()\n",
        "p.join()\n"
      ],
      "metadata": {
        "colab": {
          "base_uri": "https://localhost:8080/"
        },
        "id": "8P1x_BQjY3Fl",
        "outputId": "592bf102-83c2-4e60-8a02-b35ce4801f56"
      },
      "execution_count": 18,
      "outputs": [
        {
          "output_type": "stream",
          "name": "stdout",
          "text": [
            "Locked section of code\n"
          ]
        }
      ]
    },
    {
      "cell_type": "markdown",
      "source": [
        "Ques-6  Discuss why it’s crucial to handle exceptions in concurrent programs and the techniques available for doing so."
      ],
      "metadata": {
        "id": "AT523vInZUgy"
      }
    },
    {
      "cell_type": "markdown",
      "source": [
        "Handling exceptions in concurrent programs is crucial because unhandled exceptions can lead to unpredictable behavior, resource leaks, deadlocks, data corruption, and other serious issues that can compromise the stability and reliability of the program. In concurrent environments, such as multithreading and multiprocessing, exceptions can be more challenging to manage because they may occur in separate threads or processes, often outside the main control flow.\n",
        "\n",
        "Why Exception Handling is Crucial in Concurrent Programs:\n",
        "\n",
        "1. Preventing Resource Leaks: Without proper exception handling, resources like file handles, database connections, or network sockets might not be released properly, leading to resource exhaustion and degraded performance.\n",
        "\n",
        "2. Maintaining Data Integrity: Concurrent programs often access shared data. If an exception occurs in a critical section without proper handling, it may leave shared data in an inconsistent state, causing data corruption.\n",
        "\n",
        "3. Avoiding Deadlocks and Inconsistencies: Exceptions can interrupt the flow of acquiring and releasing locks, semaphores, or other synchronization mechanisms, leading to deadlocks or inconsistent states.\n",
        "\n",
        "4. Ensuring Program Stability: Unhandled exceptions in one thread or process can crash the entire program or leave it in an unstable state, especially if the exception occurs in a thread or process responsible for critical tasks.\n",
        "\n",
        "5. Graceful Degradation and Recovery: Proper exception handling allows concurrent programs to handle errors gracefully, perform cleanup actions, retry operations, or failover to alternative strategies without crashing.\n",
        "\n",
        "6. Debugging and Diagnostics: Properly handled exceptions with logging and tracebacks provide valuable information for debugging and diagnosing issues in concurrent programs, which can be more complex due to the non-linear execution flow.\n",
        "\n",
        "Techniques for Handling Exceptions in Concurrent Programs:\n",
        "\n",
        "1. Thread Exception Handling (Multithreading):\n",
        "In multithreading, exceptions in threads do not propagate to the main thread or other threads automatically. You need to explicitly handle exceptions within each thread.\n",
        "Try-Except Blocks: Use try-except blocks inside the thread function to catch exceptions.\n",
        "Logging: Log exceptions with relevant details to assist in debugging.\n",
        "Threading with Daemon Threads: If threads are set as daemon threads, they will exit when the main program exits, but unhandled exceptions in daemon threads can still cause silent failures, so proper handling is necessary."
      ],
      "metadata": {
        "id": "eK-JuV5xZXrU"
      }
    },
    {
      "cell_type": "code",
      "source": [
        "#example\n",
        "import threading\n",
        "import logging\n",
        "\n",
        "def worker():\n",
        "    try:\n",
        "\n",
        "        raise ValueError(\"An error occurred in the thread\")\n",
        "    except Exception as e:\n",
        "        logging.error(f\"Exception in thread: {e}\")\n",
        "\n",
        "thread = threading.Thread(target=worker)\n",
        "thread.start()\n",
        "thread.join()\n"
      ],
      "metadata": {
        "colab": {
          "base_uri": "https://localhost:8080/"
        },
        "id": "5RXvcVsRZn7d",
        "outputId": "c7048ebe-5297-4376-9ed4-54d25ca2e853"
      },
      "execution_count": 19,
      "outputs": [
        {
          "output_type": "stream",
          "name": "stderr",
          "text": [
            "ERROR:root:Exception in thread: An error occurred in the thread\n"
          ]
        }
      ]
    },
    {
      "cell_type": "markdown",
      "source": [
        "2. Multiprocessing Exception Handling:\n",
        "\n",
        "In multiprocessing, exceptions in a child process do not automatically propagate to the parent process. Proper handling involves capturing exceptions in the child process and communicating them back to the parent process.\n",
        "\n",
        "Using Try-Except in Processes: Catch exceptions within the process function and send error messages or status codes through IPC mechanisms like queues or pipes.\n",
        "\n",
        "Custom Exception Handling with Manager or Queue: Use a Manager or a Queue to pass exceptions or error messages from child processes back to the parent process."
      ],
      "metadata": {
        "id": "LD4ocT2ZZuTP"
      }
    },
    {
      "cell_type": "code",
      "source": [
        "#example\n",
        "from multiprocessing import Process, Queue\n",
        "import traceback\n",
        "\n",
        "def worker(q):\n",
        "    try:\n",
        "\n",
        "        raise ValueError(\"Error in process\")\n",
        "    except Exception as e:\n",
        "        q.put(traceback.format_exc())\n",
        "\n",
        "if __name__ == '__main__':\n",
        "    q = Queue()\n",
        "    p = Process(target=worker, args=(q,))\n",
        "    p.start()\n",
        "    p.join()\n",
        "\n",
        "    if not q.empty():\n",
        "        error = q.get()\n",
        "        print(f\"Exception in process: {error}\")\n"
      ],
      "metadata": {
        "colab": {
          "base_uri": "https://localhost:8080/"
        },
        "id": "zD3hpb2YZ4Lp",
        "outputId": "8382494f-0970-4889-8f9c-e9f04c73fc99"
      },
      "execution_count": 20,
      "outputs": [
        {
          "output_type": "stream",
          "name": "stdout",
          "text": [
            "Exception in process: Traceback (most recent call last):\n",
            "  File \"<ipython-input-20-331588da4578>\", line 8, in worker\n",
            "    raise ValueError(\"Error in process\")\n",
            "ValueError: Error in process\n",
            "\n"
          ]
        }
      ]
    },
    {
      "cell_type": "markdown",
      "source": [
        "3. Using Concurrent Futures (ThreadPoolExecutor / ProcessPoolExecutor):\n",
        "\n",
        "The concurrent.futures module provides high-level interfaces for managing threads and processes, including exception handling.\n",
        "\n",
        "Future Objects and Exception Handling: When using ThreadPoolExecutor or ProcessPoolExecutor, exceptions are captured in Future objects and can be accessed using the exception() method.\n",
        "\n",
        "Result Handling with Error Checking: Use future.result() to retrieve results, which will raise the exception if it occurred in the task."
      ],
      "metadata": {
        "id": "2O-d0pEwZ_qk"
      }
    },
    {
      "cell_type": "code",
      "source": [
        "#example\n",
        "from concurrent.futures import ThreadPoolExecutor, as_completed\n",
        "\n",
        "def task():\n",
        "    raise ValueError(\"Error in concurrent task\")\n",
        "\n",
        "with ThreadPoolExecutor(max_workers=2) as executor:\n",
        "    futures = [executor.submit(task)]\n",
        "    for future in as_completed(futures):\n",
        "        try:\n",
        "            future.result()\n",
        "        except Exception as e:\n",
        "            print(f\"Exception caught from task: {e}\")\n"
      ],
      "metadata": {
        "colab": {
          "base_uri": "https://localhost:8080/"
        },
        "id": "ad8l0qgOaIC3",
        "outputId": "c0f467ef-6a24-46dc-83fc-4551d420a80b"
      },
      "execution_count": 21,
      "outputs": [
        {
          "output_type": "stream",
          "name": "stdout",
          "text": [
            "Exception caught from task: Error in concurrent task\n"
          ]
        }
      ]
    },
    {
      "cell_type": "markdown",
      "source": [
        "4. Graceful Shutdown and Cleanup:\n",
        "\n",
        "Ensure that all resources are properly released and processes or threads are shut down gracefully, even in the event of an exception.\n",
        "\n",
        "Context Managers: Use context managers (with statements) for handling resources like locks, files, or network connections, ensuring they are properly released."
      ],
      "metadata": {
        "id": "iShCm-ONaOFE"
      }
    },
    {
      "cell_type": "code",
      "source": [
        "#example\n",
        "from multiprocessing import Pool\n",
        "\n",
        "def worker(x):\n",
        "    if x == 5:\n",
        "        raise ValueError(\"Deliberate exception\")\n",
        "    return x * x\n",
        "\n",
        "if __name__ == '__main__':\n",
        "    with Pool(4) as pool:\n",
        "        try:\n",
        "            results = pool.map(worker, range(10))\n",
        "            print(results)\n",
        "        except Exception as e:\n",
        "            print(f\"Exception during pool execution: {e}\")\n",
        "        finally:\n",
        "            pool.close()\n",
        "            pool.join()\n"
      ],
      "metadata": {
        "colab": {
          "base_uri": "https://localhost:8080/"
        },
        "id": "rGhOlzlmaUxC",
        "outputId": "24a8ca15-39ee-499e-de97-28780df080bf"
      },
      "execution_count": 22,
      "outputs": [
        {
          "output_type": "stream",
          "name": "stdout",
          "text": [
            "Exception during pool execution: Deliberate exception\n"
          ]
        }
      ]
    },
    {
      "cell_type": "markdown",
      "source": [
        "Ques-7 Create a program that uses a thread pool to calculate the factorial of numbers from 1 to 10 concurrently.\n",
        "Use concurrent.futures.ThreadPoolExecutor to manage the threads."
      ],
      "metadata": {
        "id": "joSLEE2JapU6"
      }
    },
    {
      "cell_type": "code",
      "source": [
        "import concurrent.futures\n",
        "\n",
        "def factorial(n):\n",
        "    \"\"\"Calculate the factorial of a number n.\"\"\"\n",
        "    if n == 0 or n == 1:\n",
        "        return 1\n",
        "    else:\n",
        "        return n * factorial(n - 1)\n",
        "\n",
        "def main():\n",
        "    numbers = range(1, 11)\n",
        "\n",
        "\n",
        "    with concurrent.futures.ThreadPoolExecutor() as executor:\n",
        "\n",
        "        results = executor.map(factorial, numbers)\n",
        "\n",
        "\n",
        "    for number, result in zip(numbers, results):\n",
        "        print(f\"Factorial of {number} is {result}\")\n",
        "\n",
        "if __name__ == \"__main__\":\n",
        "    main()\n"
      ],
      "metadata": {
        "colab": {
          "base_uri": "https://localhost:8080/"
        },
        "id": "LedNKQDmPbls",
        "outputId": "5c5b6318-d26c-4f78-ee76-6e21dfc13ec5"
      },
      "execution_count": 24,
      "outputs": [
        {
          "output_type": "stream",
          "name": "stdout",
          "text": [
            "Factorial of 1 is 1\n",
            "Factorial of 2 is 2\n",
            "Factorial of 3 is 6\n",
            "Factorial of 4 is 24\n",
            "Factorial of 5 is 120\n",
            "Factorial of 6 is 720\n",
            "Factorial of 7 is 5040\n",
            "Factorial of 8 is 40320\n",
            "Factorial of 9 is 362880\n",
            "Factorial of 10 is 3628800\n"
          ]
        }
      ]
    },
    {
      "cell_type": "markdown",
      "source": [
        "Ques-8 Create a Python program that uses multiprocessing.Pool to compute the square of numbers from 1 to 10 in parallel. Measure the time taken to perform this computation using a pool of different sizes (e.g., 2, 4, 8 processes)."
      ],
      "metadata": {
        "id": "qHB7_VxzahHl"
      }
    },
    {
      "cell_type": "code",
      "source": [
        "import multiprocessing\n",
        "import time\n",
        "\n",
        "def square(n):\n",
        "    \"\"\"Function to compute the square of a number.\"\"\"\n",
        "    return n * n\n",
        "\n",
        "def measure_time(pool_size, numbers):\n",
        "    \"\"\"Measure the time taken to compute squares with a given pool size.\"\"\"\n",
        "    with multiprocessing.Pool(processes=pool_size) as pool:\n",
        "        start_time = time.time()\n",
        "        results = pool.map(square, numbers)\n",
        "        end_time = time.time()\n",
        "    return results, end_time - start_time\n",
        "\n",
        "def main():\n",
        "    numbers = range(1, 11)\n",
        "    pool_sizes = [2, 4, 8]\n",
        "\n",
        "    for size in pool_sizes:\n",
        "        results, elapsed_time = measure_time(size, numbers)\n",
        "        print(f\"Pool size: {size} -> Results: {results}, Time taken: {elapsed_time:.6f} seconds\")\n",
        "\n",
        "if __name__ == \"__main__\":\n",
        "    main()\n"
      ],
      "metadata": {
        "colab": {
          "base_uri": "https://localhost:8080/"
        },
        "id": "EgBoA_SehXxj",
        "outputId": "0c3d1c96-5164-4e97-e04d-8378085f7db6"
      },
      "execution_count": 23,
      "outputs": [
        {
          "output_type": "stream",
          "name": "stdout",
          "text": [
            "Pool size: 2 -> Results: [1, 4, 9, 16, 25, 36, 49, 64, 81, 100], Time taken: 0.004099 seconds\n",
            "Pool size: 4 -> Results: [1, 4, 9, 16, 25, 36, 49, 64, 81, 100], Time taken: 0.011297 seconds\n",
            "Pool size: 8 -> Results: [1, 4, 9, 16, 25, 36, 49, 64, 81, 100], Time taken: 0.005376 seconds\n"
          ]
        }
      ]
    },
    {
      "cell_type": "code",
      "source": [],
      "metadata": {
        "id": "Zwka2iXrh5_l"
      },
      "execution_count": null,
      "outputs": []
    }
  ]
}